{
 "cells": [
  {
   "cell_type": "code",
   "execution_count": null,
   "metadata": {},
   "outputs": [],
   "source": [
    "%load_ext autoreload\n",
    "%autoreload 2\n",
    "%env ANYWIDGET_HMR=1"
   ]
  },
  {
   "cell_type": "code",
   "execution_count": null,
   "metadata": {},
   "outputs": [],
   "source": [
    "from anywidget_styling import Widget\n",
    "Widget()"
   ]
  },
  {
   "cell_type": "code",
   "execution_count": null,
   "metadata": {},
   "outputs": [],
   "source": [
    "import anywidget\n",
    "JS_STR = \"\"\"\n",
    "const appendChild = (parent, child) => {\n",
    "\tif (Array.isArray(child))\n",
    "\t\tchild.forEach((nestedChild) => appendChild(parent, nestedChild))\n",
    "\telse\n",
    "\t\tparent.appendChild(\n",
    "\t\t\tchild.nodeType ? child : document.createTextNode(child)\n",
    "\t\t)\n",
    "}\n",
    "const createElement = (tag, props, ...children) => {\n",
    "\tconst element = document.createElement(tag)\n",
    "\n",
    "\tObject.entries(props || {}).forEach(([name, value]) => {\n",
    "\t\tif (name.startsWith('on') && name.toLowerCase() in window)\n",
    "\t\t\telement.addEventListener(name.toLowerCase().substr(2), value)\n",
    "\t\telse element.setAttribute(name, value.toString())\n",
    "\t})\n",
    "\n",
    "\tchildren.forEach((child) => {\n",
    "\t\tappendChild(element, child)\n",
    "\t})\n",
    "\n",
    "\treturn element\n",
    "}\n",
    "\n",
    "const generateSpans = function () {\n",
    "    return createElement(\n",
    "        \"div\",\n",
    "        { style: { height: 100, width: 100, border: \"1px solid red\" }, className: \"ag-theme-alpine-dark\" },\n",
    "        createElement(\n",
    "            \"span\",\n",
    "            { \"class\": \"ag-sort-indicator-container\", style: { color: \"green\", height: 50, width: 50, border: \"3px solid orange\" }, \"data-ref\": \"eSortIndicator\" },\n",
    "            createElement(\n",
    "                \"span\",\n",
    "                { \"data-ref\": \"eSortOrder\", \"class\": \"ag-sort-indicator-icon ag-sort-order ag-hidden\", \"aria-hidden\": \"true\" },\n",
    "                \"1\"\n",
    "            ),\n",
    "            createElement(\n",
    "                \"span\",\n",
    "                { \"data-ref\": \"eSortAsc\", \"class\": \"ag-sort-indicator-icon ag-sort-ascending-icon\", \"aria-hidden\": \"true\" },\n",
    "                createElement(\"span\", { \"class\": \"ag-icon ag-icon-asc\", style: { color: \"black\" }, unselectable: \"on\", role: \"presentation\" })\n",
    "            )\n",
    "        ),\n",
    "        createElement(\"span\", { \"class\": \"ag-icon ag-icon-asc\", unselectable: \"on\", role: \"presentation\" })\n",
    "    );\n",
    "};\n",
    "\n",
    "function render({ model, el }) {\n",
    "    let count = function () {\n",
    "        return model.get(\"value\");\n",
    "    };\n",
    "\n",
    "    el.appendChild(generateSpans());\n",
    "    console.log(\"hello\");\n",
    "}\n",
    "\n",
    "export default { render };\n",
    "\"\"\"\n",
    "class InlineWidget(anywidget.AnyWidget):\n",
    "    _esm = JS_STR\n",
    "    #_css = pathlib.Path(__file__).parent / \"static\" / \"widget.css\"\n",
    "InlineWidget()"
   ]
  },
  {
   "cell_type": "code",
   "execution_count": null,
   "metadata": {},
   "outputs": [],
   "source": []
  }
 ],
 "metadata": {
  "kernelspec": {
   "display_name": "Python 3 (ipykernel)",
   "language": "python",
   "name": "python3"
  },
  "language_info": {
   "codemirror_mode": {
    "name": "ipython",
    "version": 3
   },
   "file_extension": ".py",
   "mimetype": "text/x-python",
   "name": "python",
   "nbconvert_exporter": "python",
   "pygments_lexer": "ipython3",
   "version": "3.13.2"
  },
  "widgets": {
   "application/vnd.jupyter.widget-state+json": {
    "state": {},
    "version_major": 2,
    "version_minor": 0
   }
  }
 },
 "nbformat": 4,
 "nbformat_minor": 4
}
